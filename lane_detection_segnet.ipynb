{
  "nbformat": 4,
  "nbformat_minor": 0,
  "metadata": {
    "colab": {
      "name": "lane_detection_segnet.ipynb",
      "provenance": [],
      "collapsed_sections": []
    },
    "kernelspec": {
      "name": "python2",
      "display_name": "Python 2"
    },
    "accelerator": "GPU"
  },
  "cells": [
    {
      "cell_type": "code",
      "metadata": {
        "id": "1P_3fnnC4CdF",
        "colab_type": "code",
        "outputId": "d9caba33-3f68-468a-e0a0-9ed3c4dbfd72",
        "colab": {
          "base_uri": "https://localhost:8080/",
          "height": 219
        }
      },
      "source": [
        "import os\n",
        "os.chdir(\"/content/drive/My Drive/Colab Notebooks/image-segmentation-keras\")\n",
        "import keras_segmentation\n",
        "#import argparse\n",
        "\n",
        "model = keras_segmentation.models.segnet.resnet50_segnet(n_classes=4, input_height=320, input_width=640  ) \n",
        "\n",
        "#parser = argparse.ArgumentParser(description='Short sample app')\n",
        "#parser.add_argument('a', action=\"store_true\", default=False)\n",
        "#print parser.parse_args()\n",
        "\n",
        "pre_trained = True\n",
        "predict_multiple_images = False\n",
        "\n",
        "if pre_trained:\n",
        " #model.load_weights('/content/drive/My Drive/Colab Notebooks/segnet_weights/segnet.6') # load json and create model\n",
        " #model.load_weights('/content/drive/My Drive/Colab Notebooks/vgg_segnet_weights/vgg_segnet.6') # load json and create model\n",
        " model.load_weights('/content/drive/My Drive/Colab Notebooks/resnet50_segnet_weights/resnet50_segnet.6') # load json and create model\n",
        " \n",
        "else:\n",
        " model.train(\n",
        "    train_images =  \"/content/drive/My Drive/Colab Notebooks/Frogn_Dataset_32x/images_prepped_train/\",\n",
        "    train_annotations = \"/content/drive/My Drive/Colab Notebooks/Frogn_Dataset_32x/annotations_prepped_train/\",\n",
        "    #checkpoints_path = \"/content/drive/My Drive/Colab Notebooks/segnet_weights/segnet\", epochs=7\n",
        "    #checkpoints_path = \"/content/drive/My Drive/Colab Notebooks/vgg_segnet_weights/vgg_segnet\", epochs=7\n",
        "    checkpoints_path = \"/content/drive/My Drive/Colab Notebooks/resnet50_segnet_weights/resnet50_segnet\", epochs=7\n",
        " )\n",
        "\n",
        "if predict_multiple_images:\n",
        " out = model.predict_multiple(\n",
        "      inp_dir=\"/content/drive/My Drive/Colab Notebooks/Frogn_Dataset_32x/images_prepped_test/\",\n",
        "      #checkpoints_path = \"/content/drive/My Drive/Colab Notebooks/segnet_weights/segnet\",\n",
        "      #out_dir=\"/content/drive/My Drive/Colab Notebooks/predicted_outputs_segnet/\"\n",
        "      #out_dir=\"/content/drive/My Drive/Colab Notebooks/predicted_outputs_vgg_segnet/\"\n",
        "      out_dir=\"/content/drive/My Drive/Colab Notebooks/predicted_outputs_resnet50_segnet/\"\n",
        " )\n",
        "\n",
        "else:\n",
        " out = model.predict_segmentation(\n",
        "    inp=\"/content/drive/My Drive/Colab Notebooks/Frogn_Dataset_32x/images_prepped_test/frogn_10000.png\",\n",
        "    #checkpoints_path = \"/content/drive/My Drive/Colab Notebooks/segnet_weights/segnet\",\n",
        "    #checkpoints_path = \"/content/drive/My Drive/Colab Notebooks/vgg_segnet_weights/vgg_segnet\",\n",
        "    checkpoints_path = \"/content/drive/My Drive/Colab Notebooks/resnet50_segnet_weights/resnet50_segnet\",\n",
        "    out_fname=\"out.png\"\n",
        " )\n",
        "  \n",
        " import matplotlib.pyplot as plt\n",
        " plt.imshow(out)\n"
      ],
      "execution_count": 0,
      "outputs": [
        {
          "output_type": "display_data",
          "data": {
            "image/png": "[encoded data removed]",
            "text/plain": [
              "<Figure size 432x288 with 1 Axes>"
            ]
          },
          "metadata": {
            "tags": []
          }
        }
      ]
    },
    {
      "cell_type": "code",
      "metadata": {
        "id": "eThWWX00G_un",
        "colab_type": "code",
        "outputId": "b1856d13-8c51-47d3-d533-595432ac3a25",
        "colab": {
          "base_uri": "https://localhost:8080/",
          "height": 124
        }
      },
      "source": [
        "from google.colab import drive\n",
        "drive.mount('/content/drive')"
      ],
      "execution_count": 0,
      "outputs": [
        {
          "output_type": "stream",
          "text": [
            "Go to this URL in a browser: https://accounts.google.com/o/oauth2/auth?client_id=947318989803-6bn6qk8qdgf4n4g3pfee6491hc0brc4i.apps.googleusercontent.com&redirect_uri=urn%3Aietf%3Awg%3Aoauth%3A2.0%3Aoob&scope=email%20https%3A%2F%2Fwww.googleapis.com%2Fauth%2Fdocs.test%20https%3A%2F%2Fwww.googleapis.com%2Fauth%2Fdrive%20https%3A%2F%2Fwww.googleapis.com%2Fauth%2Fdrive.photos.readonly%20https%3A%2F%2Fwww.googleapis.com%2Fauth%2Fpeopleapi.readonly&response_type=code\n",
            "\n",
            "Enter your authorization code:\n",
            "··········\n",
            "Mounted at /content/drive\n"
          ],
          "name": "stdout"
        }
      ]
    }
  ]
}