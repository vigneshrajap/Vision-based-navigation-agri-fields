{
  "nbformat": 4,
  "nbformat_minor": 0,
  "metadata": {
    "colab": {
      "name": "lane_detection_segnet.ipynb",
      "provenance": [],
      "collapsed_sections": []
    },
    "kernelspec": {
      "name": "python2",
      "display_name": "Python 2"
    },
    "accelerator": "GPU"
  },
  "cells": [
    {
      "cell_type": "code",
      "metadata": {
        "id": "1P_3fnnC4CdF",
        "colab_type": "code",
        "outputId": "9f6d6e93-7d6c-4768-b738-b4ca85a69827",
        "colab": {
          "base_uri": "https://localhost:8080/",
          "height": 34
        }
      },
      "source": [
        "import os\n",
        "os.chdir(\"/content/drive/My Drive/Colab Notebooks/image-segmentation-keras\")\n",
        "import keras_segmentation\n",
        "#import argparse\n",
        "\n",
        "model = keras_segmentation.models.segnet.segnet(n_classes=3, input_height=360, input_width=640  ) \n",
        "\n",
        "#parser = argparse.ArgumentParser(description='Short sample app')\n",
        "#parser.add_argument('a', action=\"store_true\", default=False)\n",
        "#print parser.parse_args()\n",
        "\n",
        "\n",
        "pre_trained = True\n",
        "predict_multiple_images = True\n",
        "\n",
        "if pre_trained:\n",
        " model.load_weights('/content/drive/My Drive/Colab Notebooks/segnet_weights/segnet.4') # load json and create model\n",
        " \n",
        "else:\n",
        " model.train(\n",
        "    train_images =  \"/content/drive/My Drive/Colab Notebooks/Frogn_Dataset/images_prepped_train/\",\n",
        "    train_annotations = \"/content/drive/My Drive/Colab Notebooks/Frogn_Dataset/annotations_prepped_train/\",\n",
        "    checkpoints_path = \"/content/drive/My Drive/Colab Notebooks/segnet_weights/segnet\", epochs=5\n",
        " )\n",
        "\n",
        "if predict_multiple_images:\n",
        " out = model.predict_multiple(\n",
        "      inp_dir=\"/content/drive/My Drive/Colab Notebooks/Frogn_Dataset/images_prepped_test/\",\n",
        "      #checkpoints_path = \"/content/drive/My Drive/Colab Notebooks/segnet_weights/segnet\",\n",
        "      out_dir=\"/content/drive/My Drive/Colab Notebooks/predicted_outputs/\"\n",
        " )\n",
        "\n",
        "else:\n",
        " out = model.predict_segmentation(\n",
        "    inp=\"/content/drive/My Drive/Colab Notebooks/Frogn_Dataset/images_prepped_test/frogn_30759.png\",\n",
        "    checkpoints_path = \"/content/drive/My Drive/Colab Notebooks/segnet_weights/segnet\",\n",
        "    out_fname=\"out.png\"\n",
        " )\n",
        "  \n",
        " import matplotlib.pyplot as plt\n",
        " plt.imshow(out)\n",
        "\n",
        "  "
      ],
      "execution_count": 0,
      "outputs": [
        {
          "output_type": "stream",
          "text": [
            "100%|██████████| 23/23 [00:03<00:00,  9.94it/s]\n"
          ],
          "name": "stderr"
        }
      ]
    }
  ]
}