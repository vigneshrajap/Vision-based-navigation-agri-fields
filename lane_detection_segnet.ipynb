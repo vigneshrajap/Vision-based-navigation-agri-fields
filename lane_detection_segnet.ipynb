{
  "nbformat": 4,
  "nbformat_minor": 0,
  "metadata": {
    "colab": {
      "name": "lane_detection_segnet.ipynb",
      "provenance": [],
      "collapsed_sections": []
    },
    "kernelspec": {
      "name": "python2",
      "display_name": "Python 2"
    },
    "accelerator": "GPU"
  },
  "cells": [
    {
      "cell_type": "code",
      "metadata": {
        "id": "1P_3fnnC4CdF",
        "colab_type": "code",
        "outputId": "fcc33f48-45ff-4069-9736-bc9ea0113fdc",
        "colab": {
          "base_uri": "https://localhost:8080/",
          "height": 816
        }
      },
      "source": [
        "import os\n",
        "os.chdir(\"/content/drive/My Drive/Colab Notebooks/image-segmentation-keras\")\n",
        "import keras_segmentation\n",
        "from keras_segmentation.predict import model_from_checkpoint_path\n",
        "\n",
        "model = keras_segmentation.models.segnet.vgg_segnet(n_classes=3, input_height=320, input_width=640  ) \n",
        "\n",
        "pre_trained = False\n",
        "predict_multiple_images = False\n",
        "model_path = \"/content/drive/My Drive/Colab Notebooks/segnet_weights/vgg_segnet\"\n",
        "\n",
        "if pre_trained:\n",
        " model = model_from_checkpoint_path(model_path)\n",
        " \n",
        "else:\n",
        " model.train(\n",
        "    train_images =  \"/content/drive/My Drive/Colab Notebooks/Frogn_Dataset/images_prepped_train/\",\n",
        "    train_annotations = \"/content/drive/My Drive/Colab Notebooks/Frogn_Dataset/annotations_prepped_train/\",\n",
        "    checkpoints_path = model_path, epochs=25\n",
        " )\n",
        "\n",
        "if predict_multiple_images:\n",
        " out = model.predict_multiple(\n",
        "      inp_dir=\"/content/drive/My Drive/Colab Notebooks/Frogn_Dataset/images_prepped_test/\",\n",
        "      checkpoints_path = model_path,\n",
        "      #out_dir=\"/content/drive/My Drive/Colab Notebooks/predicted_outputs_segnet/\"\n",
        "      out_dir=\"/content/drive/My Drive/Colab Notebooks/predicted_outputs_vgg_segnet/\"\n",
        "      #out_dir=\"/content/drive/My Drive/Colab Notebooks/predicted_outputs_resnet50_segnet/\"\n",
        " )\n",
        "\n",
        "else:\n",
        " out = model.predict_segmentation(\n",
        "    inp=\"/content/drive/My Drive/Colab Notebooks/Frogn_Dataset/images_prepped_test/frogn_10000.png\",\n",
        "    checkpoints_path = model_path,\n",
        "    out_fname=\"out.png\"\n",
        " )\n",
        "  \n",
        " import matplotlib.pyplot as plt\n",
        " plt.imshow(out)\n"
      ],
      "execution_count": 0,
      "outputs": [
        {
          "output_type": "stream",
          "text": [
            "  6%|▌         | 7/120 [00:00<00:01, 66.63it/s]"
          ],
          "name": "stderr"
        },
        {
          "output_type": "stream",
          "text": [
            "Verifying train dataset\n"
          ],
          "name": "stdout"
        },
        {
          "output_type": "stream",
          "text": [
            "100%|██████████| 120/120 [00:01<00:00, 64.21it/s]\n"
          ],
          "name": "stderr"
        },
        {
          "output_type": "stream",
          "text": [
            "Dataset verified! \n",
            "('Starting Epoch ', 0)\n",
            "Epoch 1/1\n",
            "512/512 [==============================] - 258s 505ms/step - loss: 0.4970 - acc: 0.8060\n",
            "('saved ', '/content/drive/My Drive/Colab Notebooks/segnet_weights/vgg_segnet.model.0')\n",
            "('Finished Epoch', 0)\n",
            "('Starting Epoch ', 1)\n",
            "Epoch 1/1\n",
            "512/512 [==============================] - 238s 465ms/step - loss: 0.2596 - acc: 0.8978\n",
            "('saved ', '/content/drive/My Drive/Colab Notebooks/segnet_weights/vgg_segnet.model.1')\n",
            "('Finished Epoch', 1)\n",
            "('Starting Epoch ', 2)\n",
            "Epoch 1/1\n",
            "512/512 [==============================] - 237s 464ms/step - loss: 0.1767 - acc: 0.9311\n",
            "('saved ', '/content/drive/My Drive/Colab Notebooks/segnet_weights/vgg_segnet.model.2')\n",
            "('Finished Epoch', 2)\n",
            "('Starting Epoch ', 3)\n",
            "Epoch 1/1\n",
            "512/512 [==============================] - 237s 463ms/step - loss: 0.1187 - acc: 0.9539\n",
            "('saved ', '/content/drive/My Drive/Colab Notebooks/segnet_weights/vgg_segnet.model.3')\n",
            "('Finished Epoch', 3)\n",
            "('Starting Epoch ', 4)\n",
            "Epoch 1/1\n",
            "512/512 [==============================] - 237s 462ms/step - loss: 0.0790 - acc: 0.9691\n",
            "('saved ', '/content/drive/My Drive/Colab Notebooks/segnet_weights/vgg_segnet.model.4')\n",
            "('Finished Epoch', 4)\n",
            "('Starting Epoch ', 5)\n",
            "Epoch 1/1\n",
            "512/512 [==============================] - 237s 463ms/step - loss: 0.0602 - acc: 0.9763\n",
            "('saved ', '/content/drive/My Drive/Colab Notebooks/segnet_weights/vgg_segnet.model.5')\n",
            "('Finished Epoch', 5)\n",
            "('Starting Epoch ', 6)\n",
            "Epoch 1/1\n",
            "512/512 [==============================] - 237s 462ms/step - loss: 0.0484 - acc: 0.9810\n",
            "('saved ', '/content/drive/My Drive/Colab Notebooks/segnet_weights/vgg_segnet.model.6')\n",
            "('Finished Epoch', 6)\n",
            "('Starting Epoch ', 7)\n",
            "Epoch 1/1\n",
            "512/512 [==============================] - 237s 464ms/step - loss: 0.0416 - acc: 0.9836\n",
            "('saved ', '/content/drive/My Drive/Colab Notebooks/segnet_weights/vgg_segnet.model.7')\n",
            "('Finished Epoch', 7)\n",
            "('Starting Epoch ', 8)\n",
            "Epoch 1/1\n",
            "313/512 [=================>............] - ETA: 1:32 - loss: 0.0377 - acc: 0.9852"
          ],
          "name": "stdout"
        }
      ]
    }
  ]
}